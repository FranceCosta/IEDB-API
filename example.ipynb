{
 "cells": [
  {
   "cell_type": "markdown",
   "metadata": {},
   "source": [
    "# Run IEDB API"
   ]
  },
  {
   "cell_type": "code",
   "execution_count": 3,
   "metadata": {},
   "outputs": [],
   "source": [
    "import requests\n",
    "import ast\n",
    "import time\n",
    "import json"
   ]
  },
  {
   "cell_type": "markdown",
   "metadata": {},
   "source": [
    "## Run predictions"
   ]
  },
  {
   "cell_type": "code",
   "execution_count": 49,
   "metadata": {},
   "outputs": [
    {
     "name": "stdout",
     "output_type": "stream",
     "text": [
      "Query succesfully submitted\n",
      "Getting results from https://api-nextgen-tools.iedb.org/api/v1/results/231a5d52-2d2d-46b9-93eb-4a58d3f721ca\n",
      "Results are still pending, waiting 15s before next attempt\n",
      "Results are still pending, waiting 15s before next attempt\n",
      "Results completed. Saving at output.json\n"
     ]
    }
   ],
   "source": [
    "# Insert parameters here:\n",
    "\n",
    "fasta = \"input.fa\"\n",
    "output_file = \"output.json\"\n",
    "alleles = \"H2-Kb,H2-Db\"\n",
    "peptide_length_range = [9, 10]\n",
    "method = \"netmhcpan_el\"\n",
    "\n",
    "##########################\n",
    "\n",
    "time_before_next_attempt = 15\n",
    "\n",
    "sequences = open(fasta, 'r').read()\n",
    "\n",
    "url = \"https://api-nextgen-tools.iedb.org/api/v1/pipeline\"\n",
    "\n",
    "headers = {\"accept\": \"application/json\", \n",
    "           \"Content-type\": \"application/json\"}\n",
    "\n",
    "payload = {\n",
    "  \"pipeline_title\": \"MHC prediction\",\n",
    "  \"run_stage_range\": [\n",
    "    1,\n",
    "    1\n",
    "  ],\n",
    "  \"stages\": [\n",
    "    {\n",
    "      \"stage_number\": 1,\n",
    "      \"tool_group\": \"mhci\",\n",
    "      \"input_sequence_text\": sequences,\n",
    "      \"input_parameters\": {\n",
    "        \"alleles\": alleles,\n",
    "        \"peptide_length_range\": peptide_length_range,\n",
    "        \"predictors\": [\n",
    "          {\n",
    "            \"type\": \"binding\",\n",
    "            \"method\": method\n",
    "          }\n",
    "        ]\n",
    "      }\n",
    "    }\n",
    "  ]\n",
    "}\n",
    "\n",
    "response = requests.post(url=url, json=payload, headers=headers)\n",
    "\n",
    "if response.status_code == 200:\n",
    "    print(\"Query succesfully submitted\")\n",
    "    result_link = ast.literal_eval(response.content.decode('utf-8'))[\"results_uri\"]\n",
    "    print(f\"Getting results from {result_link}\")\n",
    "    \n",
    "    results_status = \"pending\"\n",
    "    while results_status != \"done\":\n",
    "        results = requests.get(result_link)\n",
    "        results = json.loads(results.content.decode('utf-8'))\n",
    "        results_status = results[\"status\"]\n",
    "        print(f\"Results are still pending, waiting {time_before_next_attempt}s before next attempt\")\n",
    "        time.sleep(time_before_next_attempt)\n",
    "    \n",
    "    print(f\"Results completed. Saving at {output_file}\")\n",
    "    \n",
    "    with open(output_file, \"w\") as fh:\n",
    "        json.dump(results, fh)\n",
    "        \n",
    "\n",
    "else: \n",
    "    print(f\"An error occurred. Status code is: {response.status_code}\")"
   ]
  },
  {
   "cell_type": "markdown",
   "metadata": {},
   "source": [
    "## Parse results"
   ]
  },
  {
   "cell_type": "code",
   "execution_count": 7,
   "metadata": {},
   "outputs": [],
   "source": [
    "with open(output_file, \"r\") as fh:\n",
    "    results_dic = json.load(fh)"
   ]
  },
  {
   "cell_type": "code",
   "execution_count": 13,
   "metadata": {},
   "outputs": [
    {
     "name": "stdout",
     "output_type": "stream",
     "text": [
      "{'type': 'peptide_table', 'table_data': [[1, 'ALPHIIDEV', 10, 18, 9, 'H2-Db', 10, 1.2, 'ALPHIIDEV', 'ALPHIIDEV', 0.06681, 1.2], [1, 'ALPHIIDEV', 10, 18, 9, 'H2-Kb', 10, 6.4, 'ALPHIIDEV', 'ALPHIIDEV', 0.009798, 6.4], [1, 'ALPHIIDEVI', 10, 19, 10, 'H2-Db', 34, 2.7, 'ALPHIIDEI', 'ALPHIIDEVI', 0.024745, 2.7], [1, 'ALPHIIDEVI', 10, 19, 10, 'H2-Kb', 34, 32.0, 'ALPHIIDEI', 'ALPHIIDEVI', 0.000444, 32.0], [1, 'DEVINIVII', 16, 24, 9, 'H2-Db', 16, 3.1, 'DEVINIVII', 'DEVINIVII', 0.020514, 3.1], [1, 'DEVINIVII', 16, 24, 9, 'H2-Kb', 16, 30.0, 'DEVINIVII', 'DEVINIVII', 0.00051, 30.0], [1, 'DEVINIVIIV', 16, 25, 10, 'H2-Db', 40, 23.0, 'DEVINIVIV', 'DEVINIVIIV', 0.000727, 23.0], [1, 'DEVINIVIIV', 16, 25, 10, 'H2-Kb', 40, 35.0, 'DVINIVIIV', 'DEVINIVIIV', 0.000353, 35.0], [1, 'EALPHIIDE', 9, 17, 9, 'H2-Db', 9, 31.0, 'EALPHIIDE', 'EALPHIIDE', 0.000349, 31.0], [1, 'EALPHIIDE', 9, 17, 9, 'H2-Kb', 9, 30.0, 'EALPHIIDE', 'EALPHIIDE', 0.000527, 30.0], [1, 'EALPHIIDEV', 9, 18, 10, 'H2-Db', 33, 3.6, 'EALPHIDEV', 'EALPHIIDEV', 0.016589, 3.6], [1, 'EALPHIIDEV', 9, 18, 10, 'H2-Kb', 33, 14.0, 'EALPHIIEV', 'EALPHIIDEV', 0.002541, 14.0], [1, 'EVINIVIIV', 17, 25, 9, 'H2-Db', 17, 11.0, 'EVINIVIIV', 'EVINIVIIV', 0.003416, 11.0], [1, 'EVINIVIIV', 17, 25, 9, 'H2-Kb', 17, 4.9, 'EVINIVIIV', 'EVINIVIIV', 0.01518, 4.9], [1, 'EVINIVIIVL', 17, 26, 10, 'H2-Db', 41, 15.0, 'EVINIIIVL', 'EVINIVIIVL', 0.00177, 15.0], [1, 'EVINIVIIVL', 17, 26, 10, 'H2-Kb', 41, 17.0, 'EVINIIIVL', 'EVINIVIIVL', 0.001798, 17.0], [1, 'FEALPHIID', 8, 16, 9, 'H2-Db', 8, 50.0, 'FEALPHIID', 'FEALPHIID', 9.4e-05, 50.0], [1, 'FEALPHIID', 8, 16, 9, 'H2-Kb', 8, 71.0, 'FEALPHIID', 'FEALPHIID', 4.5e-05, 71.0], [1, 'FEALPHIIDE', 8, 17, 10, 'H2-Db', 32, 39.0, 'FALPHIIDE', 'FEALPHIIDE', 0.000195, 39.0], [1, 'FEALPHIIDE', 8, 17, 10, 'H2-Kb', 32, 55.0, 'FALPHIIDE', 'FEALPHIIDE', 0.000107, 55.0], [1, 'GQIVTMFEA', 2, 10, 9, 'H2-Db', 2, 3.1, 'GQIVTMFEA', 'GQIVTMFEA', 0.02035, 3.1], [1, 'GQIVTMFEA', 2, 10, 9, 'H2-Kb', 2, 16.0, 'GQIVTMFEA', 'GQIVTMFEA', 0.002011, 16.0], [1, 'GQIVTMFEAL', 2, 11, 10, 'H2-Db', 26, 0.76, 'GQITMFEAL', 'GQIVTMFEAL', 0.100544, 0.76], [1, 'GQIVTMFEAL', 2, 11, 10, 'H2-Kb', 26, 11.0, 'GQITMFEAL', 'GQIVTMFEAL', 0.00433, 11.0], [1, 'HIIDEVINI', 13, 21, 9, 'H2-Db', 13, 4.7, 'HIIDEVINI', 'HIIDEVINI', 0.011138, 4.7], [1, 'HIIDEVINI', 13, 21, 9, 'H2-Kb', 13, 1.4, 'HIIDEVINI', 'HIIDEVINI', 0.083227, 1.4], [1, 'HIIDEVINIV', 13, 22, 10, 'H2-Db', 37, 19.0, 'HIIEVINIV', 'HIIDEVINIV', 0.001147, 19.0], [1, 'HIIDEVINIV', 13, 22, 10, 'H2-Kb', 37, 13.0, 'HIIDEVINV', 'HIIDEVINIV', 0.003088, 13.0], [1, 'IDEVINIVI', 15, 23, 9, 'H2-Db', 15, 15.0, 'IDEVINIVI', 'IDEVINIVI', 0.001896, 15.0], [1, 'IDEVINIVI', 15, 23, 9, 'H2-Kb', 15, 22.0, 'IDEVINIVI', 'IDEVINIVI', 0.001013, 22.0], [1, 'IDEVINIVII', 15, 24, 10, 'H2-Db', 39, 3.6, 'IEVINIVII', 'IDEVINIVII', 0.016413, 3.6], [1, 'IDEVINIVII', 15, 24, 10, 'H2-Kb', 39, 38.0, 'IEVINIVII', 'IDEVINIVII', 0.000293, 38.0], [1, 'IIDEVINIV', 14, 22, 9, 'H2-Db', 14, 10.0, 'IIDEVINIV', 'IIDEVINIV', 0.003489, 10.0], [1, 'IIDEVINIV', 14, 22, 9, 'H2-Kb', 14, 5.1, 'IIDEVINIV', 'IIDEVINIV', 0.01408, 5.1], [1, 'IIDEVINIVI', 14, 23, 10, 'H2-Db', 38, 15.0, 'IIDEINIVI', 'IIDEVINIVI', 0.00185, 15.0], [1, 'IIDEVINIVI', 14, 23, 10, 'H2-Kb', 38, 26.0, 'IIDEVIIVI', 'IIDEVINIVI', 0.000689, 26.0], [1, 'IIVLIVITG', 23, 31, 9, 'H2-Db', 23, 39.0, 'IIVLIVITG', 'IIVLIVITG', 0.000193, 39.0], [1, 'IIVLIVITG', 23, 31, 9, 'H2-Kb', 23, 30.0, 'IIVLIVITG', 'IIVLIVITG', 0.000512, 30.0], [1, 'IIVLIVITGI', 23, 32, 10, 'H2-Db', 47, 29.0, 'IIVLIVITI', 'IIVLIVITGI', 0.000429, 29.0], [1, 'IIVLIVITGI', 23, 32, 10, 'H2-Kb', 47, 26.0, 'IVLIVITGI', 'IIVLIVITGI', 0.000724, 26.0], [1, 'INIVIIVLI', 19, 27, 9, 'H2-Db', 19, 1.2, 'INIVIIVLI', 'INIVIIVLI', 0.067668, 1.2], [1, 'INIVIIVLI', 19, 27, 9, 'H2-Kb', 19, 0.63, 'INIVIIVLI', 'INIVIIVLI', 0.165544, 0.63], [1, 'INIVIIVLIV', 19, 28, 10, 'H2-Db', 43, 17.0, 'INIVIIVLV', 'INIVIIVLIV', 0.001442, 17.0], [1, 'INIVIIVLIV', 19, 28, 10, 'H2-Kb', 43, 11.0, 'INIVIIVLV', 'INIVIIVLIV', 0.003884, 11.0], [1, 'IVIIVLIVI', 21, 29, 9, 'H2-Db', 21, 4.1, 'IVIIVLIVI', 'IVIIVLIVI', 0.013637, 4.1], [1, 'IVIIVLIVI', 21, 29, 9, 'H2-Kb', 21, 3.7, 'IVIIVLIVI', 'IVIIVLIVI', 0.023192, 3.7], [1, 'IVIIVLIVIT', 21, 30, 10, 'H2-Db', 45, 58.0, 'IVIVLIVIT', 'IVIIVLIVIT', 5.7e-05, 58.0], [1, 'IVIIVLIVIT', 21, 30, 10, 'H2-Kb', 45, 57.0, 'IVIVLIVIT', 'IVIIVLIVIT', 9.9e-05, 57.0], [1, 'IVLIVITGI', 24, 32, 9, 'H2-Db', 24, 6.5, 'IVLIVITGI', 'IVLIVITGI', 0.006927, 6.5], [1, 'IVLIVITGI', 24, 32, 9, 'H2-Kb', 24, 1.5, 'IVLIVITGI', 'IVLIVITGI', 0.078096, 1.5], [1, 'IVTMFEALP', 4, 12, 9, 'H2-Db', 4, 43.0, 'IVTMFEALP', 'IVTMFEALP', 0.000149, 43.0], [1, 'IVTMFEALP', 4, 12, 9, 'H2-Kb', 4, 20.0, 'IVTMFEALP', 'IVTMFEALP', 0.001198, 20.0], [1, 'IVTMFEALPH', 4, 13, 10, 'H2-Db', 28, 64.0, 'ITMFEALPH', 'IVTMFEALPH', 3.9e-05, 64.0], [1, 'IVTMFEALPH', 4, 13, 10, 'H2-Kb', 28, 51.0, 'IVTMFEALH', 'IVTMFEALPH', 0.000136, 51.0], [1, 'LPHIIDEVI', 11, 19, 9, 'H2-Db', 11, 6.0, 'LPHIIDEVI', 'LPHIIDEVI', 0.007801, 6.0], [1, 'LPHIIDEVI', 11, 19, 9, 'H2-Kb', 11, 24.0, 'LPHIIDEVI', 'LPHIIDEVI', 0.000863, 24.0], [1, 'LPHIIDEVIN', 11, 20, 10, 'H2-Db', 35, 64.0, 'LPHIIDEVI', 'LPHIIDEVI', 3.9e-05, 64.0], [1, 'LPHIIDEVIN', 11, 20, 10, 'H2-Kb', 35, 78.0, 'LPHIIDEVI', 'LPHIIDEVI', 2.9e-05, 78.0], [1, 'MFEALPHII', 7, 15, 9, 'H2-Db', 7, 7.7, 'MFEALPHII', 'MFEALPHII', 0.0053, 7.7], [1, 'MFEALPHII', 7, 15, 9, 'H2-Kb', 7, 15.0, 'MFEALPHII', 'MFEALPHII', 0.002141, 15.0], [1, 'MFEALPHIID', 7, 16, 10, 'H2-Db', 31, 77.0, 'MFEALPHII', 'MFEALPHII', 1.7e-05, 77.0], [1, 'MFEALPHIID', 7, 16, 10, 'H2-Kb', 31, 75.0, 'MFALPHIID', 'MFEALPHIID', 3.4e-05, 75.0], [1, 'MGQIVTMFE', 1, 9, 9, 'H2-Db', 1, 42.0, 'MGQIVTMFE', 'MGQIVTMFE', 0.000156, 42.0], [1, 'MGQIVTMFE', 1, 9, 9, 'H2-Kb', 1, 38.0, 'MGQIVTMFE', 'MGQIVTMFE', 0.000291, 38.0], [1, 'MGQIVTMFEA', 1, 10, 10, 'H2-Db', 25, 18.0, 'MQIVTMFEA', 'MGQIVTMFEA', 0.001184, 18.0], [1, 'MGQIVTMFEA', 1, 10, 10, 'H2-Kb', 25, 50.0, 'MQIVTMFEA', 'MGQIVTMFEA', 0.000148, 50.0], [1, 'NIVIIVLIV', 20, 28, 9, 'H2-Db', 20, 20.0, 'NIVIIVLIV', 'NIVIIVLIV', 0.001014, 20.0], [1, 'NIVIIVLIV', 20, 28, 9, 'H2-Kb', 20, 12.0, 'NIVIIVLIV', 'NIVIIVLIV', 0.003197, 12.0], [1, 'NIVIIVLIVI', 20, 29, 10, 'H2-Db', 44, 33.0, 'NVIIVLIVI', 'NIVIIVLIVI', 0.000314, 33.0], [1, 'NIVIIVLIVI', 20, 29, 10, 'H2-Kb', 44, 54.0, 'NVIIVLIVI', 'NIVIIVLIVI', 0.000113, 54.0], [1, 'PHIIDEVIN', 12, 20, 9, 'H2-Db', 12, 91.0, 'PHIIDEVIN', 'PHIIDEVIN', 5e-06, 91.0], [1, 'PHIIDEVIN', 12, 20, 9, 'H2-Kb', 12, 90.0, 'PHIIDEVIN', 'PHIIDEVIN', 1.2e-05, 90.0], [1, 'PHIIDEVINI', 12, 21, 10, 'H2-Db', 36, 28.0, 'PHIIDVINI', 'PHIIDEVINI', 0.000464, 28.0], [1, 'PHIIDEVINI', 12, 21, 10, 'H2-Kb', 36, 30.0, 'HIIDEVINI', 'HIIDEVINI', 0.00052, 30.0], [1, 'QIVTMFEAL', 3, 11, 9, 'H2-Db', 3, 1.2, 'QIVTMFEAL', 'QIVTMFEAL', 0.066836, 1.2], [1, 'QIVTMFEAL', 3, 11, 9, 'H2-Kb', 3, 0.35, 'QIVTMFEAL', 'QIVTMFEAL', 0.251344, 0.35], [1, 'QIVTMFEALP', 3, 12, 10, 'H2-Db', 27, 41.0, 'QIVTMFEAL', 'QIVTMFEAL', 0.000175, 41.0], [1, 'QIVTMFEALP', 3, 12, 10, 'H2-Kb', 27, 32.0, 'QIVTMFEAL', 'QIVTMFEAL', 0.000449, 32.0], [1, 'TMFEALPHI', 6, 14, 9, 'H2-Db', 6, 0.34, 'TMFEALPHI', 'TMFEALPHI', 0.190246, 0.34], [1, 'TMFEALPHI', 6, 14, 9, 'H2-Kb', 6, 0.13, 'TMFEALPHI', 'TMFEALPHI', 0.493556, 0.13], [1, 'TMFEALPHII', 6, 15, 10, 'H2-Db', 30, 2.2, 'TMFELPHII', 'TMFEALPHII', 0.03195, 2.2], [1, 'TMFEALPHII', 6, 15, 10, 'H2-Kb', 30, 3.9, 'TMFEALPHI', 'TMFEALPHII', 0.021953, 3.9], [1, 'VIIVLIVIT', 22, 30, 9, 'H2-Db', 22, 22.0, 'VIIVLIVIT', 'VIIVLIVIT', 0.000826, 22.0], [1, 'VIIVLIVIT', 22, 30, 9, 'H2-Kb', 22, 11.0, 'VIIVLIVIT', 'VIIVLIVIT', 0.003892, 11.0], [1, 'VIIVLIVITG', 22, 31, 10, 'H2-Db', 46, 62.0, 'VIIVLIVTG', 'VIIVLIVITG', 4.4e-05, 62.0], [1, 'VIIVLIVITG', 22, 31, 10, 'H2-Kb', 46, 67.0, 'VIIVLIVTG', 'VIIVLIVITG', 5.5e-05, 67.0], [1, 'VINIVIIVL', 18, 26, 9, 'H2-Db', 18, 4.9, 'VINIVIIVL', 'VINIVIIVL', 0.010757, 4.9], [1, 'VINIVIIVL', 18, 26, 9, 'H2-Kb', 18, 1.8, 'VINIVIIVL', 'VINIVIIVL', 0.06048, 1.8], [1, 'VINIVIIVLI', 18, 27, 10, 'H2-Db', 42, 12.0, 'VNIVIIVLI', 'VINIVIIVLI', 0.002931, 12.0], [1, 'VINIVIIVLI', 18, 27, 10, 'H2-Kb', 42, 11.0, 'VNIVIIVLI', 'VINIVIIVLI', 0.003793, 11.0], [1, 'VTMFEALPH', 5, 13, 9, 'H2-Db', 5, 28.0, 'VTMFEALPH', 'VTMFEALPH', 0.000461, 28.0], [1, 'VTMFEALPH', 5, 13, 9, 'H2-Kb', 5, 24.0, 'VTMFEALPH', 'VTMFEALPH', 0.000835, 24.0], [1, 'VTMFEALPHI', 5, 14, 10, 'H2-Db', 29, 3.2, 'VMFEALPHI', 'VTMFEALPHI', 0.019461, 3.2], [1, 'VTMFEALPHI', 5, 14, 10, 'H2-Kb', 29, 2.1, 'VTFEALPHI', 'VTMFEALPHI', 0.053211, 2.1], [2, 'EQIHVLENS', 2, 10, 9, 'H2-Db', 49, 23.0, 'EQIHVLENS', 'EQIHVLENS', 0.000699, 23.0], [2, 'EQIHVLENS', 2, 10, 9, 'H2-Kb', 49, 29.0, 'EQIHVLENS', 'EQIHVLENS', 0.000554, 29.0], [2, 'EQIHVLENSL', 2, 11, 10, 'H2-Db', 54, 5.7, 'EQIHVLESL', 'EQIHVLENSL', 0.008441, 5.7], [2, 'EQIHVLENSL', 2, 11, 10, 'H2-Kb', 54, 12.0, 'EQIHVLNSL', 'EQIHVLENSL', 0.00363, 12.0], [2, 'HVLENSLVL', 5, 13, 9, 'H2-Db', 52, 0.03, 'HVLENSLVL', 'HVLENSLVL', 0.765159, 0.03], [2, 'HVLENSLVL', 5, 13, 9, 'H2-Kb', 52, 2.3, 'HVLENSLVL', 'HVLENSLVL', 0.046345, 2.3], [2, 'IHVLENSLV', 4, 12, 9, 'H2-Db', 51, 11.0, 'IHVLENSLV', 'IHVLENSLV', 0.003275, 11.0], [2, 'IHVLENSLV', 4, 12, 9, 'H2-Kb', 51, 7.1, 'IHVLENSLV', 'IHVLENSLV', 0.008147, 7.1], [2, 'IHVLENSLVL', 4, 13, 10, 'H2-Db', 56, 0.26, 'IVLENSLVL', 'IHVLENSLVL', 0.237376, 0.26], [2, 'IHVLENSLVL', 4, 13, 10, 'H2-Kb', 56, 6.1, 'IHLENSLVL', 'IHVLENSLVL', 0.010688, 6.1], [2, 'LEQIHVLEN', 1, 9, 9, 'H2-Db', 48, 60.0, 'LEQIHVLEN', 'LEQIHVLEN', 5e-05, 60.0], [2, 'LEQIHVLEN', 1, 9, 9, 'H2-Kb', 48, 51.0, 'LEQIHVLEN', 'LEQIHVLEN', 0.00014, 51.0], [2, 'LEQIHVLENS', 1, 10, 10, 'H2-Db', 53, 53.0, 'LQIHVLENS', 'LEQIHVLENS', 7.7e-05, 53.0], [2, 'LEQIHVLENS', 1, 10, 10, 'H2-Kb', 53, 57.0, 'LQIHVLENS', 'LEQIHVLENS', 9.6e-05, 57.0], [2, 'QIHVLENSL', 3, 11, 9, 'H2-Db', 50, 3.9, 'QIHVLENSL', 'QIHVLENSL', 0.014879, 3.9], [2, 'QIHVLENSL', 3, 11, 9, 'H2-Kb', 50, 2.0, 'QIHVLENSL', 'QIHVLENSL', 0.055266, 2.0], [2, 'QIHVLENSLV', 3, 12, 10, 'H2-Db', 55, 32.0, 'QHVLENSLV', 'QIHVLENSLV', 0.000334, 32.0], [2, 'QIHVLENSLV', 3, 12, 10, 'H2-Kb', 55, 29.0, 'QIHVLNSLV', 'QIHVLENSLV', 0.000549, 29.0], [3, 'EHIHVLENS', 3, 11, 9, 'H2-Db', 59, 34.0, 'EHIHVLENS', 'EHIHVLENS', 0.000273, 34.0], [3, 'EHIHVLENS', 3, 11, 9, 'H2-Kb', 59, 28.0, 'EHIHVLENS', 'EHIHVLENS', 0.00062, 28.0], [3, 'EHIHVLENSL', 3, 12, 10, 'H2-Db', 66, 10.0, 'EHIVLENSL', 'EHIHVLENSL', 0.003522, 10.0], [3, 'EHIHVLENSL', 3, 12, 10, 'H2-Kb', 66, 11.0, 'EHIHVLNSL', 'EHIHVLENSL', 0.004091, 11.0], [3, 'FVEHIHVLE', 1, 9, 9, 'H2-Db', 57, 48.0, 'FVEHIHVLE', 'FVEHIHVLE', 0.000104, 48.0], [3, 'FVEHIHVLE', 1, 9, 9, 'H2-Kb', 57, 28.0, 'FVEHIHVLE', 'FVEHIHVLE', 0.000581, 28.0], [3, 'FVEHIHVLEN', 1, 10, 10, 'H2-Db', 64, 58.0, 'FEHIHVLEN', 'FVEHIHVLEN', 5.8e-05, 58.0], [3, 'FVEHIHVLEN', 1, 10, 10, 'H2-Kb', 64, 73.0, 'VEHIHVLEN', 'VEHIHVLEN', 3.9e-05, 73.0], [3, 'HIHVLENSL', 4, 12, 9, 'H2-Db', 60, 2.4, 'HIHVLENSL', 'HIHVLENSL', 0.027789, 2.4], [3, 'HIHVLENSL', 4, 12, 9, 'H2-Kb', 60, 2.2, 'HIHVLENSL', 'HIHVLENSL', 0.049597, 2.2], [3, 'HIHVLENSLA', 4, 13, 10, 'H2-Db', 67, 36.0, 'HIHVLENSA', 'HIHVLENSLA', 0.000238, 36.0], [3, 'HIHVLENSLA', 4, 13, 10, 'H2-Kb', 67, 44.0, 'HIHVLENSL', 'HIHVLENSL', 0.000208, 44.0], [3, 'HVLENSLAF', 6, 14, 9, 'H2-Db', 62, 0.18, 'HVLENSLAF', 'HVLENSLAF', 0.308487, 0.18], [3, 'HVLENSLAF', 6, 14, 9, 'H2-Kb', 62, 2.1, 'HVLENSLAF', 'HVLENSLAF', 0.052242, 2.1], [3, 'HVLENSLAFK', 6, 15, 10, 'H2-Db', 69, 13.0, 'HVLENSLAF', 'HVLENSLAF', 0.002307, 13.0], [3, 'HVLENSLAFK', 6, 15, 10, 'H2-Kb', 69, 29.0, 'HVLENSLAF', 'HVLENSLAF', 0.00054, 29.0], [3, 'IHVLENSLA', 5, 13, 9, 'H2-Db', 61, 25.0, 'IHVLENSLA', 'IHVLENSLA', 0.000596, 25.0], [3, 'IHVLENSLA', 5, 13, 9, 'H2-Kb', 61, 19.0, 'IHVLENSLA', 'IHVLENSLA', 0.001292, 19.0], [3, 'IHVLENSLAF', 5, 14, 10, 'H2-Db', 68, 1.5, 'IVLENSLAF', 'IHVLENSLAF', 0.051587, 1.5], [3, 'IHVLENSLAF', 5, 14, 10, 'H2-Kb', 68, 5.1, 'IVLENSLAF', 'IHVLENSLAF', 0.014229, 5.1], [3, 'VEHIHVLEN', 2, 10, 9, 'H2-Db', 58, 38.0, 'VEHIHVLEN', 'VEHIHVLEN', 0.000204, 38.0], [3, 'VEHIHVLEN', 2, 10, 9, 'H2-Kb', 58, 31.0, 'VEHIHVLEN', 'VEHIHVLEN', 0.000482, 31.0], [3, 'VEHIHVLENS', 2, 11, 10, 'H2-Db', 65, 43.0, 'VEHIHVENS', 'VEHIHVLENS', 0.00015, 43.0], [3, 'VEHIHVLENS', 2, 11, 10, 'H2-Kb', 65, 37.0, 'VHIHVLENS', 'VEHIHVLENS', 0.00032, 37.0], [3, 'VLENSLAFK', 7, 15, 9, 'H2-Db', 63, 60.0, 'VLENSLAFK', 'VLENSLAFK', 4.9e-05, 60.0], [3, 'VLENSLAFK', 7, 15, 9, 'H2-Kb', 63, 36.0, 'VLENSLAFK', 'VLENSLAFK', 0.000333, 36.0]], 'table_columns': [{'name': 'sequence_number', 'type': 'int', 'hidden': False, 'source': 'core', 'sort_order': 0, 'description': 'Index of the input sequence among all input sequences.', 'display_name': 'seq #', 'value_limits': {'max': 3.0, 'min': 1.0}, 'default_order': 'ascending', 'row_sort_priority': 2}, {'name': 'peptide', 'type': 'text', 'hidden': False, 'source': 'core', 'sort_order': 3, 'description': 'Peptide sequence sequence', 'display_name': 'peptide', 'value_limits': {'unique_values': ['MGQIVTMFE', 'GQIVTMFEA', 'QIVTMFEAL', 'IVTMFEALP', 'VTMFEALPH', 'TMFEALPHI', 'MFEALPHII', 'FEALPHIID', 'EALPHIIDE', 'ALPHIIDEV', 'LPHIIDEVI', 'PHIIDEVIN', 'HIIDEVINI', 'IIDEVINIV', 'IDEVINIVI', 'DEVINIVII', 'EVINIVIIV', 'VINIVIIVL', 'INIVIIVLI', 'NIVIIVLIV', 'IVIIVLIVI', 'VIIVLIVIT', 'IIVLIVITG', 'IVLIVITGI', 'MGQIVTMFEA', 'GQIVTMFEAL', 'QIVTMFEALP', 'IVTMFEALPH', 'VTMFEALPHI', 'TMFEALPHII', 'MFEALPHIID', 'FEALPHIIDE', 'EALPHIIDEV', 'ALPHIIDEVI', 'LPHIIDEVIN', 'PHIIDEVINI', 'HIIDEVINIV', 'IIDEVINIVI', 'IDEVINIVII', 'DEVINIVIIV', 'EVINIVIIVL', 'VINIVIIVLI', 'INIVIIVLIV', 'NIVIIVLIVI', 'IVIIVLIVIT', 'VIIVLIVITG', 'IIVLIVITGI', 'LEQIHVLEN', 'EQIHVLENS', 'QIHVLENSL', 'IHVLENSLV', 'HVLENSLVL', 'LEQIHVLENS', 'EQIHVLENSL', 'QIHVLENSLV', 'IHVLENSLVL', 'FVEHIHVLE', 'VEHIHVLEN', 'EHIHVLENS', 'HIHVLENSL', 'IHVLENSLA', 'HVLENSLAF', 'VLENSLAFK', 'FVEHIHVLEN', 'VEHIHVLENS', 'EHIHVLENSL', 'HIHVLENSLA', 'IHVLENSLAF', 'HVLENSLAFK']}, 'default_order': None, 'row_sort_priority': None}, {'name': 'start', 'type': 'int', 'hidden': False, 'source': 'core', 'sort_order': 1, 'description': 'Peptide sequence start within the context of the input sequence', 'display_name': 'start', 'value_limits': {'max': 24.0, 'min': 1.0}, 'default_order': None, 'row_sort_priority': None}, {'name': 'end', 'type': 'int', 'hidden': False, 'source': 'core', 'sort_order': 2, 'description': 'Peptide sequence end within the context of the input sequence', 'display_name': 'end', 'value_limits': {'max': 32.0, 'min': 9.0}, 'default_order': None, 'row_sort_priority': None}, {'name': 'length', 'type': 'int', 'hidden': False, 'source': 'core', 'sort_order': 4, 'description': 'Peptide sequence length', 'display_name': 'peptide length', 'value_limits': {'max': 10.0, 'min': 9.0}, 'default_order': None, 'row_sort_priority': None}, {'name': 'allele', 'type': 'text', 'hidden': False, 'source': 'core', 'sort_order': 5, 'description': 'MHC allele used in the prediction', 'display_name': 'allele', 'value_limits': {'unique_values': ['H2-Kb', 'H2-Db']}, 'default_order': None, 'row_sort_priority': None}, {'name': 'peptide_index', 'type': 'int', 'hidden': True, 'source': 'core', 'sort_order': 6, 'description': 'Serial number of the peptide among all peptides', 'display_name': 'peptide index', 'value_limits': {'max': 69.0, 'min': 1.0}, 'default_order': None, 'row_sort_priority': None}, {'name': 'median_percentile', 'type': 'float', 'hidden': False, 'source': 'binding', 'sort_order': 2, 'description': 'The median percentile rank of binding predictions', 'display_name': 'median binding percentile', 'value_limits': {'max': 91.0, 'min': 0.03}, 'default_order': 'ascending', 'number_of_digits': None, 'row_sort_priority': 0}, {'name': 'core', 'type': 'text', 'hidden': True, 'source': 'binding.netmhcpan_el', 'sort_order': 3, 'description': \"Always 9 amino acids long sequence. It's a construction used for sequence alignment and identification of binding anchors.\", 'display_name': 'netmhcpan_el core', 'value_limits': {'unique_values': ['MGQIVTMFE', 'GQIVTMFEA', 'QIVTMFEAL', 'IVTMFEALP', 'VTMFEALPH', 'TMFEALPHI', 'MFEALPHII', 'FEALPHIID', 'EALPHIIDE', 'ALPHIIDEV', 'LPHIIDEVI', 'PHIIDEVIN', 'HIIDEVINI', 'IIDEVINIV', 'IDEVINIVI', 'DEVINIVII', 'EVINIVIIV', 'VINIVIIVL', 'INIVIIVLI', 'NIVIIVLIV', 'IVIIVLIVI', 'VIIVLIVIT', 'IIVLIVITG', 'IVLIVITGI', 'MQIVTMFEA', 'GQITMFEAL', 'IVTMFEALH', 'VTFEALPHI', 'MFALPHIID', 'FALPHIIDE', 'EALPHIIEV', 'ALPHIIDEI', 'HIIDEVINV', 'IIDEVIIVI', 'IEVINIVII', 'DVINIVIIV', 'EVINIIIVL', 'VNIVIIVLI', 'INIVIIVLV', 'NVIIVLIVI', 'IVIVLIVIT', 'VIIVLIVTG', 'LEQIHVLEN', 'EQIHVLENS', 'QIHVLENSL', 'IHVLENSLV', 'HVLENSLVL', 'LQIHVLENS', 'EQIHVLNSL', 'QIHVLNSLV', 'IHLENSLVL', 'FVEHIHVLE', 'VEHIHVLEN', 'EHIHVLENS', 'HIHVLENSL', 'IHVLENSLA', 'HVLENSLAF', 'VLENSLAFK', 'VHIHVLENS', 'EHIHVLNSL', 'IVLENSLAF', 'ITMFEALPH', 'VMFEALPHI', 'TMFELPHII', 'EALPHIDEV', 'PHIIDVINI', 'HIIEVINIV', 'IIDEINIVI', 'DEVINIVIV', 'IIVLIVITI', 'EQIHVLESL', 'QHVLENSLV', 'IVLENSLVL', 'FEHIHVLEN', 'VEHIHVENS', 'EHIVLENSL', 'HIHVLENSA']}, 'default_order': None, 'row_sort_priority': None}, {'name': 'icore', 'type': 'text', 'hidden': True, 'source': 'binding.netmhcpan_el', 'sort_order': 3, 'description': 'Substring of peptide that encompasses all residues between P1 and P-omega of the MHC.', 'display_name': 'netmhcpan_el icore', 'value_limits': {'unique_values': ['MGQIVTMFE', 'GQIVTMFEA', 'QIVTMFEAL', 'IVTMFEALP', 'VTMFEALPH', 'TMFEALPHI', 'MFEALPHII', 'FEALPHIID', 'EALPHIIDE', 'ALPHIIDEV', 'LPHIIDEVI', 'PHIIDEVIN', 'HIIDEVINI', 'IIDEVINIV', 'IDEVINIVI', 'DEVINIVII', 'EVINIVIIV', 'VINIVIIVL', 'INIVIIVLI', 'NIVIIVLIV', 'IVIIVLIVI', 'VIIVLIVIT', 'IIVLIVITG', 'IVLIVITGI', 'MGQIVTMFEA', 'GQIVTMFEAL', 'IVTMFEALPH', 'VTMFEALPHI', 'TMFEALPHII', 'MFEALPHIID', 'FEALPHIIDE', 'EALPHIIDEV', 'ALPHIIDEVI', 'HIIDEVINIV', 'IIDEVINIVI', 'IDEVINIVII', 'DEVINIVIIV', 'EVINIVIIVL', 'VINIVIIVLI', 'INIVIIVLIV', 'NIVIIVLIVI', 'IVIIVLIVIT', 'VIIVLIVITG', 'IIVLIVITGI', 'LEQIHVLEN', 'EQIHVLENS', 'QIHVLENSL', 'IHVLENSLV', 'HVLENSLVL', 'LEQIHVLENS', 'EQIHVLENSL', 'QIHVLENSLV', 'IHVLENSLVL', 'FVEHIHVLE', 'VEHIHVLEN', 'EHIHVLENS', 'HIHVLENSL', 'IHVLENSLA', 'HVLENSLAF', 'VLENSLAFK', 'VEHIHVLENS', 'EHIHVLENSL', 'IHVLENSLAF', 'PHIIDEVINI', 'FVEHIHVLEN', 'HIHVLENSLA']}, 'default_order': None, 'row_sort_priority': None}, {'name': 'score', 'type': 'float', 'hidden': False, 'source': 'binding.netmhcpan_el', 'sort_order': 0, 'description': 'binding prediction score which indicates binding affinity', 'display_name': 'netmhcpan_el score', 'value_limits': {'max': 0.765159, 'min': 5e-06}, 'default_order': 'descending', 'number_of_digits': 4, 'row_sort_priority': 1}, {'name': 'percentile', 'type': 'float', 'hidden': False, 'source': 'binding.netmhcpan_el', 'sort_order': 1, 'description': \"The percentile rank generated by comparing the peptide's IC50 against those of a set of random peptides from SWISSPROT database\", 'display_name': 'netmhcpan_el percentile', 'value_limits': {'max': 91.0, 'min': 0.03}, 'default_order': 'ascending', 'number_of_digits': None, 'row_sort_priority': None}]}\n"
     ]
    }
   ],
   "source": [
    "print(results_dic['data']['results'][0])"
   ]
  }
 ],
 "metadata": {
  "kernelspec": {
   "display_name": "Python 3",
   "language": "python",
   "name": "python3"
  },
  "language_info": {
   "codemirror_mode": {
    "name": "ipython",
    "version": 3
   },
   "file_extension": ".py",
   "mimetype": "text/x-python",
   "name": "python",
   "nbconvert_exporter": "python",
   "pygments_lexer": "ipython3",
   "version": "3.12.1"
  }
 },
 "nbformat": 4,
 "nbformat_minor": 2
}
